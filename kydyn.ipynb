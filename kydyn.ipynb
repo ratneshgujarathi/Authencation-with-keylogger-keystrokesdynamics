{
  "nbformat": 4,
  "nbformat_minor": 0,
  "metadata": {
    "colab": {
      "name": "kydyn.ipynb",
      "provenance": [],
      "mount_file_id": "1i2U-_6INszcCBcWMcBEPN3WX70PUMiVG",
      "authorship_tag": "ABX9TyNFgMcQmzmq7XzCB3Ivz0oV",
      "include_colab_link": true
    },
    "kernelspec": {
      "name": "python3",
      "display_name": "Python 3"
    }
  },
  "cells": [
    {
      "cell_type": "markdown",
      "metadata": {
        "id": "view-in-github",
        "colab_type": "text"
      },
      "source": [
        "<a href=\"https://colab.research.google.com/github/ratneshgujarathi/Authencation-with-keylogger-keystrokesdynamics/blob/main/kydyn.ipynb\" target=\"_parent\"><img src=\"https://colab.research.google.com/assets/colab-badge.svg\" alt=\"Open In Colab\"/></a>"
      ]
    },
    {
      "cell_type": "code",
      "metadata": {
        "id": "NN9Osk0EYYdm"
      },
      "source": [
        "import numpy as np\r\n",
        "import pandas as pd\r\n",
        "from matplotlib import pyplot as plt\r\n",
        "from matplotlib.colors import ListedColormap\r\n",
        "from sklearn.model_selection import train_test_split\r\n",
        "from sklearn.neural_network import MLPClassifier\r\n",
        "from sklearn import metrics\r\n",
        "from sklearn.preprocessing import StandardScaler\r\n",
        "from sklearn.metrics import classification_report"
      ],
      "execution_count": null,
      "outputs": []
    },
    {
      "cell_type": "code",
      "metadata": {
        "id": "Hi8N45NRYhL1"
      },
      "source": [
        "# load the data\r\n",
        "data = pd.read_csv(\"DSL-StrongPasswordData.csv\", header = 0)\r\n",
        "# reset to index\r\n",
        "data = data.reset_index()\r\n",
        "# Paste the unique IDs field 'subject'\r\n",
        "unisub = list(data['subject'].unique())\r\n",
        "# create sequencial numerical id\r\n",
        "mlist = [int(x) for x in range(len(unisub))]\r\n",
        "# link the numerical ID field 'subject'\r\n",
        "newvalue = dict(zip(unisub, mlist))\r\n"
      ],
      "execution_count": null,
      "outputs": []
    },
    {
      "cell_type": "code",
      "metadata": {
        "id": "B2N72ht9oJ7L"
      },
      "source": [
        "\r\n",
        "data['subject'] = data['subject'].map(newvalue)"
      ],
      "execution_count": null,
      "outputs": []
    },
    {
      "cell_type": "code",
      "metadata": {
        "colab": {
          "base_uri": "https://localhost:8080/"
        },
        "id": "L6m1ZjUvodhw",
        "outputId": "b9e5c0cb-7114-4726-ac9c-692a75b1e224"
      },
      "source": [
        "data['subject'].unique()"
      ],
      "execution_count": null,
      "outputs": [
        {
          "output_type": "execute_result",
          "data": {
            "text/plain": [
              "array([ 0,  1,  2,  3,  4,  5,  6,  7,  8,  9, 10, 11, 12, 13, 14, 15, 16,\n",
              "       17, 18, 19, 20, 21, 22, 23, 24, 25, 26, 27, 28, 29, 30, 31, 32, 33,\n",
              "       34, 35, 36, 37, 38, 39, 40, 41, 42, 43, 44, 45, 46, 47, 48, 49, 50])"
            ]
          },
          "metadata": {
            "tags": []
          },
          "execution_count": 65
        }
      ]
    },
    {
      "cell_type": "code",
      "metadata": {
        "colab": {
          "base_uri": "https://localhost:8080/",
          "height": 214
        },
        "id": "84lbgaGFl5gO",
        "outputId": "aa8cb0b5-f34c-4424-b3cb-3c4e6b66676f"
      },
      "source": [
        "data.head()"
      ],
      "execution_count": null,
      "outputs": [
        {
          "output_type": "execute_result",
          "data": {
            "text/html": [
              "<div>\n",
              "<style scoped>\n",
              "    .dataframe tbody tr th:only-of-type {\n",
              "        vertical-align: middle;\n",
              "    }\n",
              "\n",
              "    .dataframe tbody tr th {\n",
              "        vertical-align: top;\n",
              "    }\n",
              "\n",
              "    .dataframe thead th {\n",
              "        text-align: right;\n",
              "    }\n",
              "</style>\n",
              "<table border=\"1\" class=\"dataframe\">\n",
              "  <thead>\n",
              "    <tr style=\"text-align: right;\">\n",
              "      <th></th>\n",
              "      <th>index</th>\n",
              "      <th>subject</th>\n",
              "      <th>sessionIndex</th>\n",
              "      <th>rep</th>\n",
              "      <th>H.period</th>\n",
              "      <th>DD.period.t</th>\n",
              "      <th>UD.period.t</th>\n",
              "      <th>H.t</th>\n",
              "      <th>DD.t.i</th>\n",
              "      <th>UD.t.i</th>\n",
              "      <th>H.i</th>\n",
              "      <th>DD.i.e</th>\n",
              "      <th>UD.i.e</th>\n",
              "      <th>H.e</th>\n",
              "      <th>DD.e.five</th>\n",
              "      <th>UD.e.five</th>\n",
              "      <th>H.five</th>\n",
              "      <th>DD.five.Shift.r</th>\n",
              "      <th>UD.five.Shift.r</th>\n",
              "      <th>H.Shift.r</th>\n",
              "      <th>DD.Shift.r.o</th>\n",
              "      <th>UD.Shift.r.o</th>\n",
              "      <th>H.o</th>\n",
              "      <th>DD.o.a</th>\n",
              "      <th>UD.o.a</th>\n",
              "      <th>H.a</th>\n",
              "      <th>DD.a.n</th>\n",
              "      <th>UD.a.n</th>\n",
              "      <th>H.n</th>\n",
              "      <th>DD.n.l</th>\n",
              "      <th>UD.n.l</th>\n",
              "      <th>H.l</th>\n",
              "      <th>DD.l.Return</th>\n",
              "      <th>UD.l.Return</th>\n",
              "      <th>H.Return</th>\n",
              "    </tr>\n",
              "  </thead>\n",
              "  <tbody>\n",
              "    <tr>\n",
              "      <th>0</th>\n",
              "      <td>0</td>\n",
              "      <td>0</td>\n",
              "      <td>1</td>\n",
              "      <td>1</td>\n",
              "      <td>0.1491</td>\n",
              "      <td>0.3979</td>\n",
              "      <td>0.2488</td>\n",
              "      <td>0.1069</td>\n",
              "      <td>0.1674</td>\n",
              "      <td>0.0605</td>\n",
              "      <td>0.1169</td>\n",
              "      <td>0.2212</td>\n",
              "      <td>0.1043</td>\n",
              "      <td>0.1417</td>\n",
              "      <td>1.1885</td>\n",
              "      <td>1.0468</td>\n",
              "      <td>0.1146</td>\n",
              "      <td>1.6055</td>\n",
              "      <td>1.4909</td>\n",
              "      <td>0.1067</td>\n",
              "      <td>0.7590</td>\n",
              "      <td>0.6523</td>\n",
              "      <td>0.1016</td>\n",
              "      <td>0.2136</td>\n",
              "      <td>0.1120</td>\n",
              "      <td>0.1349</td>\n",
              "      <td>0.1484</td>\n",
              "      <td>0.0135</td>\n",
              "      <td>0.0932</td>\n",
              "      <td>0.3515</td>\n",
              "      <td>0.2583</td>\n",
              "      <td>0.1338</td>\n",
              "      <td>0.3509</td>\n",
              "      <td>0.2171</td>\n",
              "      <td>0.0742</td>\n",
              "    </tr>\n",
              "    <tr>\n",
              "      <th>1</th>\n",
              "      <td>1</td>\n",
              "      <td>0</td>\n",
              "      <td>1</td>\n",
              "      <td>2</td>\n",
              "      <td>0.1111</td>\n",
              "      <td>0.3451</td>\n",
              "      <td>0.2340</td>\n",
              "      <td>0.0694</td>\n",
              "      <td>0.1283</td>\n",
              "      <td>0.0589</td>\n",
              "      <td>0.0908</td>\n",
              "      <td>0.1357</td>\n",
              "      <td>0.0449</td>\n",
              "      <td>0.0829</td>\n",
              "      <td>1.1970</td>\n",
              "      <td>1.1141</td>\n",
              "      <td>0.0689</td>\n",
              "      <td>0.7822</td>\n",
              "      <td>0.7133</td>\n",
              "      <td>0.1570</td>\n",
              "      <td>0.7877</td>\n",
              "      <td>0.6307</td>\n",
              "      <td>0.1066</td>\n",
              "      <td>0.1684</td>\n",
              "      <td>0.0618</td>\n",
              "      <td>0.1412</td>\n",
              "      <td>0.2558</td>\n",
              "      <td>0.1146</td>\n",
              "      <td>0.1146</td>\n",
              "      <td>0.2642</td>\n",
              "      <td>0.1496</td>\n",
              "      <td>0.0839</td>\n",
              "      <td>0.2756</td>\n",
              "      <td>0.1917</td>\n",
              "      <td>0.0747</td>\n",
              "    </tr>\n",
              "    <tr>\n",
              "      <th>2</th>\n",
              "      <td>2</td>\n",
              "      <td>0</td>\n",
              "      <td>1</td>\n",
              "      <td>3</td>\n",
              "      <td>0.1328</td>\n",
              "      <td>0.2072</td>\n",
              "      <td>0.0744</td>\n",
              "      <td>0.0731</td>\n",
              "      <td>0.1291</td>\n",
              "      <td>0.0560</td>\n",
              "      <td>0.0821</td>\n",
              "      <td>0.1542</td>\n",
              "      <td>0.0721</td>\n",
              "      <td>0.0808</td>\n",
              "      <td>1.0408</td>\n",
              "      <td>0.9600</td>\n",
              "      <td>0.0892</td>\n",
              "      <td>0.6203</td>\n",
              "      <td>0.5311</td>\n",
              "      <td>0.1454</td>\n",
              "      <td>0.7195</td>\n",
              "      <td>0.5741</td>\n",
              "      <td>0.1365</td>\n",
              "      <td>0.2931</td>\n",
              "      <td>0.1566</td>\n",
              "      <td>0.1621</td>\n",
              "      <td>0.2332</td>\n",
              "      <td>0.0711</td>\n",
              "      <td>0.1172</td>\n",
              "      <td>0.2705</td>\n",
              "      <td>0.1533</td>\n",
              "      <td>0.1085</td>\n",
              "      <td>0.2847</td>\n",
              "      <td>0.1762</td>\n",
              "      <td>0.0945</td>\n",
              "    </tr>\n",
              "    <tr>\n",
              "      <th>3</th>\n",
              "      <td>3</td>\n",
              "      <td>0</td>\n",
              "      <td>1</td>\n",
              "      <td>4</td>\n",
              "      <td>0.1291</td>\n",
              "      <td>0.2515</td>\n",
              "      <td>0.1224</td>\n",
              "      <td>0.1059</td>\n",
              "      <td>0.2495</td>\n",
              "      <td>0.1436</td>\n",
              "      <td>0.1040</td>\n",
              "      <td>0.2038</td>\n",
              "      <td>0.0998</td>\n",
              "      <td>0.0900</td>\n",
              "      <td>1.0556</td>\n",
              "      <td>0.9656</td>\n",
              "      <td>0.0913</td>\n",
              "      <td>1.2564</td>\n",
              "      <td>1.1651</td>\n",
              "      <td>0.1454</td>\n",
              "      <td>0.7550</td>\n",
              "      <td>0.6096</td>\n",
              "      <td>0.0956</td>\n",
              "      <td>0.1530</td>\n",
              "      <td>0.0574</td>\n",
              "      <td>0.1457</td>\n",
              "      <td>0.1629</td>\n",
              "      <td>0.0172</td>\n",
              "      <td>0.0866</td>\n",
              "      <td>0.2341</td>\n",
              "      <td>0.1475</td>\n",
              "      <td>0.0845</td>\n",
              "      <td>0.3232</td>\n",
              "      <td>0.2387</td>\n",
              "      <td>0.0813</td>\n",
              "    </tr>\n",
              "    <tr>\n",
              "      <th>4</th>\n",
              "      <td>4</td>\n",
              "      <td>0</td>\n",
              "      <td>1</td>\n",
              "      <td>5</td>\n",
              "      <td>0.1249</td>\n",
              "      <td>0.2317</td>\n",
              "      <td>0.1068</td>\n",
              "      <td>0.0895</td>\n",
              "      <td>0.1676</td>\n",
              "      <td>0.0781</td>\n",
              "      <td>0.0903</td>\n",
              "      <td>0.1589</td>\n",
              "      <td>0.0686</td>\n",
              "      <td>0.0805</td>\n",
              "      <td>0.8629</td>\n",
              "      <td>0.7824</td>\n",
              "      <td>0.0742</td>\n",
              "      <td>0.8955</td>\n",
              "      <td>0.8213</td>\n",
              "      <td>0.1243</td>\n",
              "      <td>0.7632</td>\n",
              "      <td>0.6389</td>\n",
              "      <td>0.0430</td>\n",
              "      <td>0.1975</td>\n",
              "      <td>0.1545</td>\n",
              "      <td>0.1312</td>\n",
              "      <td>0.1582</td>\n",
              "      <td>0.0270</td>\n",
              "      <td>0.0884</td>\n",
              "      <td>0.2517</td>\n",
              "      <td>0.1633</td>\n",
              "      <td>0.0903</td>\n",
              "      <td>0.2517</td>\n",
              "      <td>0.1614</td>\n",
              "      <td>0.0818</td>\n",
              "    </tr>\n",
              "  </tbody>\n",
              "</table>\n",
              "</div>"
            ],
            "text/plain": [
              "   index  subject  sessionIndex  ...  DD.l.Return  UD.l.Return  H.Return\n",
              "0      0        0             1  ...       0.3509       0.2171    0.0742\n",
              "1      1        0             1  ...       0.2756       0.1917    0.0747\n",
              "2      2        0             1  ...       0.2847       0.1762    0.0945\n",
              "3      3        0             1  ...       0.3232       0.2387    0.0813\n",
              "4      4        0             1  ...       0.2517       0.1614    0.0818\n",
              "\n",
              "[5 rows x 35 columns]"
            ]
          },
          "metadata": {
            "tags": []
          },
          "execution_count": 66
        }
      ]
    },
    {
      "cell_type": "code",
      "metadata": {
        "id": "-oavv86MbVaj"
      },
      "source": [
        "# Divide the data to implement kross validation in format 80:20\r\n",
        "train, test = train_test_split(data, test_size = 0.2, random_state=42)\r\n",
        "\r\n",
        "features = list(data.columns[3:])\r\n",
        "\r\n",
        "X = train[features]\r\n",
        "y = train['subject']\r\n",
        "\r\n",
        "X_test = test[features]\r\n",
        "y_test = test['subject']"
      ],
      "execution_count": null,
      "outputs": []
    },
    {
      "cell_type": "code",
      "metadata": {
        "id": "4ORcb461ZxJ1"
      },
      "source": [
        "#pre-processing standardizing the data subtracting the mean and then scaling to unit variance.\r\n",
        "scaler = StandardScaler()\r\n",
        "q=scaler.fit(X) #\r\n",
        "\r\n",
        "q1=scaler.transform(X)\r\n",
        "q2=scaler.transform(X_test)"
      ],
      "execution_count": null,
      "outputs": []
    },
    {
      "cell_type": "code",
      "metadata": {
        "id": "XmGFJ7k0Z6wi"
      },
      "source": [
        "model1= MLPClassifier(random_state=42,hidden_layer_sizes=(84, ),max_iter=600,activation= 'relu', learning_rate= 'invscaling', solver='adam')\r\n",
        "#model2= MLPClassifier(random_state=42,hidden_layer_sizes=(84, ),max_iter=600,activation= 'tanh', learning_rate= 'adaptive', solver='adam')\r\n",
        "#model3= MLPClassifier(random_state=42,hidden_layer_sizes=(84, ),max_iter=6000,activation= 'logistic', learning_rate= 'constant', solver='adam')\r\n",
        "#model4= MLPClassifier(random_state=42,hidden_layer_sizes=(84, ),max_iter=6000,activation= 'logistic', learning_rate= 'constant', solver='sgd')\r\n",
        "#model5= MLPClassifier(random_state=42,hidden_layer_sizes=(84, ),max_iter=5000,activation= 'relu', learning_rate= 'constant', solver='lbfgs')"
      ],
      "execution_count": null,
      "outputs": []
    },
    {
      "cell_type": "code",
      "metadata": {
        "id": "YEEdEKf1Z-cv",
        "colab": {
          "base_uri": "https://localhost:8080/"
        },
        "outputId": "50c1f89c-95b2-4d49-9ca7-1a5620a09f23"
      },
      "source": [
        "#with relu as activation function max iter 600 learning rate invscaling solver adam\r\n",
        "model1.fit(q1,y)\r\n",
        "#with tanh as activation function max iter 600 learning rate adaptive solver adam\r\n",
        "#model2.fit(X,y)\r\n",
        "#with logistic as activation function max iter 6000 learning rate constant solver adam\r\n",
        "#model3.fit(X,y)\r\n",
        "#with logistic as activation function max iter 6000 learning rate constant solver sgd\r\n",
        "#model4.fit(X,y)\r\n",
        "#with relu as activation function max iter 5000 learning rate constant solver lbfgs"
      ],
      "execution_count": null,
      "outputs": [
        {
          "output_type": "execute_result",
          "data": {
            "text/plain": [
              "MLPClassifier(activation='relu', alpha=0.0001, batch_size='auto', beta_1=0.9,\n",
              "              beta_2=0.999, early_stopping=False, epsilon=1e-08,\n",
              "              hidden_layer_sizes=(84,), learning_rate='invscaling',\n",
              "              learning_rate_init=0.001, max_fun=15000, max_iter=600,\n",
              "              momentum=0.9, n_iter_no_change=10, nesterovs_momentum=True,\n",
              "              power_t=0.5, random_state=42, shuffle=True, solver='adam',\n",
              "              tol=0.0001, validation_fraction=0.1, verbose=False,\n",
              "              warm_start=False)"
            ]
          },
          "metadata": {
            "tags": []
          },
          "execution_count": 71
        }
      ]
    },
    {
      "cell_type": "code",
      "metadata": {
        "id": "s34skjihaCki"
      },
      "source": [
        "# predict the output using the test data on the learned model\r\n",
        "predicted_output1 = model1.predict(q2)\r\n",
        "#predicted_output2 = model2.predict(X_test)\r\n",
        "#predicted_output3 = model3.predict(X_test)\r\n",
        "#predicted_output4 = model4.predict(X_test)\r\n",
        "#predicted_output5 = model5.predict(X_test)\r\n",
        "\r\n"
      ],
      "execution_count": null,
      "outputs": []
    },
    {
      "cell_type": "code",
      "metadata": {
        "id": "Awe4LB6faJHl",
        "colab": {
          "base_uri": "https://localhost:8080/"
        },
        "outputId": "35464648-4e3b-4870-b2e6-a2d289ff052a"
      },
      "source": [
        "model_accuracy1 = metrics.accuracy_score(y_test, predicted_output1)\r\n",
        "print('accuracy of model: {}%'.format(model_accuracy1*100) )\r\n"
      ],
      "execution_count": null,
      "outputs": [
        {
          "output_type": "stream",
          "text": [
            "accuracy of model: 91.37254901960785%\n"
          ],
          "name": "stdout"
        }
      ]
    },
    {
      "cell_type": "code",
      "metadata": {
        "colab": {
          "base_uri": "https://localhost:8080/"
        },
        "id": "7mBbrGn-aMvz",
        "outputId": "bf879965-9020-4768-a0d8-aaeb33cd59d1"
      },
      "source": [
        "print(classification_report(y_test, predicted_output1, target_names=unisub))"
      ],
      "execution_count": null,
      "outputs": [
        {
          "output_type": "stream",
          "text": [
            "              precision    recall  f1-score   support\n",
            "\n",
            "        s002       0.76      0.89      0.82        72\n",
            "        s003       0.86      0.88      0.87        69\n",
            "        s004       0.91      0.88      0.90        73\n",
            "        s005       0.99      0.92      0.95        73\n",
            "        s007       0.81      0.85      0.83        54\n",
            "        s008       0.87      0.84      0.85        87\n",
            "        s010       0.96      0.97      0.96        97\n",
            "        s011       0.88      0.93      0.90        75\n",
            "        s012       0.93      0.82      0.87        93\n",
            "        s013       0.90      0.97      0.93        72\n",
            "        s015       0.93      0.91      0.92        87\n",
            "        s016       0.95      0.94      0.95        85\n",
            "        s017       1.00      0.96      0.98        82\n",
            "        s018       0.86      0.90      0.88        73\n",
            "        s019       0.96      0.97      0.97        80\n",
            "        s020       0.85      0.80      0.83        86\n",
            "        s021       0.92      0.91      0.91        86\n",
            "        s022       1.00      1.00      1.00        72\n",
            "        s024       0.95      0.97      0.96        73\n",
            "        s025       0.96      0.95      0.96        85\n",
            "        s026       0.94      0.97      0.95        93\n",
            "        s027       0.94      0.95      0.95        83\n",
            "        s028       0.98      0.98      0.98        85\n",
            "        s029       0.85      0.91      0.88        76\n",
            "        s030       0.91      0.98      0.94        87\n",
            "        s031       0.85      0.77      0.81        91\n",
            "        s032       0.77      0.78      0.77        77\n",
            "        s033       0.99      0.96      0.97        69\n",
            "        s034       0.86      0.88      0.87        67\n",
            "        s035       0.96      0.94      0.95        81\n",
            "        s036       0.96      1.00      0.98        80\n",
            "        s037       0.82      0.86      0.84        78\n",
            "        s038       0.95      0.94      0.94        81\n",
            "        s039       0.91      0.95      0.93        77\n",
            "        s040       0.88      0.88      0.88        85\n",
            "        s041       0.91      0.83      0.87        96\n",
            "        s042       0.96      0.96      0.96        79\n",
            "        s043       1.00      0.97      0.99        77\n",
            "        s044       0.98      0.98      0.98        81\n",
            "        s046       0.91      0.87      0.89        89\n",
            "        s047       0.81      0.86      0.84        71\n",
            "        s048       0.83      0.89      0.86        73\n",
            "        s049       0.91      0.98      0.94        81\n",
            "        s050       0.87      0.94      0.90        89\n",
            "        s051       0.88      0.85      0.86        75\n",
            "        s052       1.00      0.94      0.97        88\n",
            "        s053       0.99      0.97      0.98        72\n",
            "        s054       0.88      0.82      0.85        83\n",
            "        s055       0.96      0.98      0.97        65\n",
            "        s056       0.95      0.86      0.90        84\n",
            "        s057       0.96      0.91      0.93        93\n",
            "\n",
            "    accuracy                           0.91      4080\n",
            "   macro avg       0.91      0.91      0.91      4080\n",
            "weighted avg       0.92      0.91      0.91      4080\n",
            "\n"
          ],
          "name": "stdout"
        }
      ]
    },
    {
      "cell_type": "code",
      "metadata": {
        "id": "kMYd6Ku2gV3O"
      },
      "source": [
        "import pickle\r\n",
        "with open('model_pickle','wb') as f:\r\n",
        "  pickle.dump(model1,f)\r\n",
        "  "
      ],
      "execution_count": null,
      "outputs": []
    },
    {
      "cell_type": "code",
      "metadata": {
        "id": "ODkEZiptg8Re"
      },
      "source": [
        "import pickle\r\n",
        "with open('model_pickle','rb') as f:\r\n",
        "  mod= pickle.load(f)"
      ],
      "execution_count": null,
      "outputs": []
    },
    {
      "cell_type": "code",
      "metadata": {
        "id": "nEFZ2Rf-MeuE"
      },
      "source": [
        "# load the data\r\n",
        "data = pd.read_csv(\"/content/drive/MyDrive/Colab Notebooks/keystroke dynamics/test1.csv\", header = 0)\r\n",
        "# reset to index\r\n",
        "data = data.reset_index()\r\n",
        "\r\n",
        "data['subject'] = data['subject'].map(newvalue)"
      ],
      "execution_count": null,
      "outputs": []
    },
    {
      "cell_type": "code",
      "metadata": {
        "colab": {
          "base_uri": "https://localhost:8080/",
          "height": 96
        },
        "id": "BvUr-7yQhSiD",
        "outputId": "4e459989-df4e-4275-ee3e-85e18a6ddd39"
      },
      "source": [
        "data.head()"
      ],
      "execution_count": null,
      "outputs": [
        {
          "output_type": "execute_result",
          "data": {
            "text/html": [
              "<div>\n",
              "<style scoped>\n",
              "    .dataframe tbody tr th:only-of-type {\n",
              "        vertical-align: middle;\n",
              "    }\n",
              "\n",
              "    .dataframe tbody tr th {\n",
              "        vertical-align: top;\n",
              "    }\n",
              "\n",
              "    .dataframe thead th {\n",
              "        text-align: right;\n",
              "    }\n",
              "</style>\n",
              "<table border=\"1\" class=\"dataframe\">\n",
              "  <thead>\n",
              "    <tr style=\"text-align: right;\">\n",
              "      <th></th>\n",
              "      <th>index</th>\n",
              "      <th>subject</th>\n",
              "      <th>sessionIndex</th>\n",
              "      <th>rep</th>\n",
              "      <th>H.period</th>\n",
              "      <th>DD.period.t</th>\n",
              "      <th>UD.period.t</th>\n",
              "      <th>H.t</th>\n",
              "      <th>DD.t.i</th>\n",
              "      <th>UD.t.i</th>\n",
              "      <th>H.i</th>\n",
              "      <th>DD.i.e</th>\n",
              "      <th>UD.i.e</th>\n",
              "      <th>H.e</th>\n",
              "      <th>DD.e.five</th>\n",
              "      <th>UD.e.five</th>\n",
              "      <th>H.five</th>\n",
              "      <th>DD.five.Shift.r</th>\n",
              "      <th>UD.five.Shift.r</th>\n",
              "      <th>H.Shift.r</th>\n",
              "      <th>DD.Shift.r.o</th>\n",
              "      <th>UD.Shift.r.o</th>\n",
              "      <th>H.o</th>\n",
              "      <th>DD.o.a</th>\n",
              "      <th>UD.o.a</th>\n",
              "      <th>H.a</th>\n",
              "      <th>DD.a.n</th>\n",
              "      <th>UD.a.n</th>\n",
              "      <th>H.n</th>\n",
              "      <th>DD.n.l</th>\n",
              "      <th>UD.n.l</th>\n",
              "      <th>H.l</th>\n",
              "      <th>DD.l.Return</th>\n",
              "      <th>UD.l.Return</th>\n",
              "      <th>H.Return</th>\n",
              "    </tr>\n",
              "  </thead>\n",
              "  <tbody>\n",
              "    <tr>\n",
              "      <th>0</th>\n",
              "      <td>0</td>\n",
              "      <td>0</td>\n",
              "      <td>1</td>\n",
              "      <td>1</td>\n",
              "      <td>0.1491</td>\n",
              "      <td>0.3979</td>\n",
              "      <td>0.2488</td>\n",
              "      <td>0.1069</td>\n",
              "      <td>0.1674</td>\n",
              "      <td>0.0605</td>\n",
              "      <td>0.1169</td>\n",
              "      <td>0.2212</td>\n",
              "      <td>0.1043</td>\n",
              "      <td>0.1417</td>\n",
              "      <td>1.1885</td>\n",
              "      <td>1.0468</td>\n",
              "      <td>0.1146</td>\n",
              "      <td>1.6055</td>\n",
              "      <td>1.4909</td>\n",
              "      <td>0.1067</td>\n",
              "      <td>0.759</td>\n",
              "      <td>0.6523</td>\n",
              "      <td>0.1016</td>\n",
              "      <td>0.2136</td>\n",
              "      <td>0.112</td>\n",
              "      <td>0.1349</td>\n",
              "      <td>0.1484</td>\n",
              "      <td>0.0135</td>\n",
              "      <td>0.0932</td>\n",
              "      <td>0.3515</td>\n",
              "      <td>0.2583</td>\n",
              "      <td>0.1338</td>\n",
              "      <td>0.3509</td>\n",
              "      <td>0.2171</td>\n",
              "      <td>0.0742</td>\n",
              "    </tr>\n",
              "  </tbody>\n",
              "</table>\n",
              "</div>"
            ],
            "text/plain": [
              "   index  subject  sessionIndex  ...  DD.l.Return  UD.l.Return  H.Return\n",
              "0      0        0             1  ...       0.3509       0.2171    0.0742\n",
              "\n",
              "[1 rows x 35 columns]"
            ]
          },
          "metadata": {
            "tags": []
          },
          "execution_count": 78
        }
      ]
    },
    {
      "cell_type": "code",
      "metadata": {
        "colab": {
          "base_uri": "https://localhost:8080/",
          "height": 96
        },
        "id": "4lbzUrNnMo6G",
        "outputId": "438d0989-5219-41bd-e425-a6587f29b15a"
      },
      "source": [
        "\r\n",
        "test= data\r\n",
        "\r\n",
        "#features = list(data.columns[2:])\r\n",
        "\r\n",
        "a = test[features]\r\n",
        "a.head()\r\n",
        "\r\n"
      ],
      "execution_count": null,
      "outputs": [
        {
          "output_type": "execute_result",
          "data": {
            "text/html": [
              "<div>\n",
              "<style scoped>\n",
              "    .dataframe tbody tr th:only-of-type {\n",
              "        vertical-align: middle;\n",
              "    }\n",
              "\n",
              "    .dataframe tbody tr th {\n",
              "        vertical-align: top;\n",
              "    }\n",
              "\n",
              "    .dataframe thead th {\n",
              "        text-align: right;\n",
              "    }\n",
              "</style>\n",
              "<table border=\"1\" class=\"dataframe\">\n",
              "  <thead>\n",
              "    <tr style=\"text-align: right;\">\n",
              "      <th></th>\n",
              "      <th>rep</th>\n",
              "      <th>H.period</th>\n",
              "      <th>DD.period.t</th>\n",
              "      <th>UD.period.t</th>\n",
              "      <th>H.t</th>\n",
              "      <th>DD.t.i</th>\n",
              "      <th>UD.t.i</th>\n",
              "      <th>H.i</th>\n",
              "      <th>DD.i.e</th>\n",
              "      <th>UD.i.e</th>\n",
              "      <th>H.e</th>\n",
              "      <th>DD.e.five</th>\n",
              "      <th>UD.e.five</th>\n",
              "      <th>H.five</th>\n",
              "      <th>DD.five.Shift.r</th>\n",
              "      <th>UD.five.Shift.r</th>\n",
              "      <th>H.Shift.r</th>\n",
              "      <th>DD.Shift.r.o</th>\n",
              "      <th>UD.Shift.r.o</th>\n",
              "      <th>H.o</th>\n",
              "      <th>DD.o.a</th>\n",
              "      <th>UD.o.a</th>\n",
              "      <th>H.a</th>\n",
              "      <th>DD.a.n</th>\n",
              "      <th>UD.a.n</th>\n",
              "      <th>H.n</th>\n",
              "      <th>DD.n.l</th>\n",
              "      <th>UD.n.l</th>\n",
              "      <th>H.l</th>\n",
              "      <th>DD.l.Return</th>\n",
              "      <th>UD.l.Return</th>\n",
              "      <th>H.Return</th>\n",
              "    </tr>\n",
              "  </thead>\n",
              "  <tbody>\n",
              "    <tr>\n",
              "      <th>0</th>\n",
              "      <td>1</td>\n",
              "      <td>0.1491</td>\n",
              "      <td>0.3979</td>\n",
              "      <td>0.2488</td>\n",
              "      <td>0.1069</td>\n",
              "      <td>0.1674</td>\n",
              "      <td>0.0605</td>\n",
              "      <td>0.1169</td>\n",
              "      <td>0.2212</td>\n",
              "      <td>0.1043</td>\n",
              "      <td>0.1417</td>\n",
              "      <td>1.1885</td>\n",
              "      <td>1.0468</td>\n",
              "      <td>0.1146</td>\n",
              "      <td>1.6055</td>\n",
              "      <td>1.4909</td>\n",
              "      <td>0.1067</td>\n",
              "      <td>0.759</td>\n",
              "      <td>0.6523</td>\n",
              "      <td>0.1016</td>\n",
              "      <td>0.2136</td>\n",
              "      <td>0.112</td>\n",
              "      <td>0.1349</td>\n",
              "      <td>0.1484</td>\n",
              "      <td>0.0135</td>\n",
              "      <td>0.0932</td>\n",
              "      <td>0.3515</td>\n",
              "      <td>0.2583</td>\n",
              "      <td>0.1338</td>\n",
              "      <td>0.3509</td>\n",
              "      <td>0.2171</td>\n",
              "      <td>0.0742</td>\n",
              "    </tr>\n",
              "  </tbody>\n",
              "</table>\n",
              "</div>"
            ],
            "text/plain": [
              "   rep  H.period  DD.period.t  ...  DD.l.Return  UD.l.Return  H.Return\n",
              "0    1    0.1491       0.3979  ...       0.3509       0.2171    0.0742\n",
              "\n",
              "[1 rows x 32 columns]"
            ]
          },
          "metadata": {
            "tags": []
          },
          "execution_count": 79
        }
      ]
    },
    {
      "cell_type": "code",
      "metadata": {
        "id": "vG0WvjwnNhAi"
      },
      "source": [
        "predicted=mod.predict(a)"
      ],
      "execution_count": null,
      "outputs": []
    }
  ]
}